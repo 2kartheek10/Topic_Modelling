{
  "nbformat": 4,
  "nbformat_minor": 0,
  "metadata": {
    "kernelspec": {
      "display_name": "Python 3",
      "language": "python",
      "name": "python3"
    },
    "language_info": {
      "codemirror_mode": {
        "name": "ipython",
        "version": 3
      },
      "file_extension": ".py",
      "mimetype": "text/x-python",
      "name": "python",
      "nbconvert_exporter": "python",
      "pygments_lexer": "ipython3",
      "version": "3.6.6"
    },
    "colab": {
      "name": "Inclass_Assignment_Topic_Modeling.ipynb",
      "provenance": [],
      "collapsed_sections": []
    },
    "accelerator": "GPU"
  },
  "cells": [
    {
      "cell_type": "markdown",
      "metadata": {
        "collapsed": true,
        "id": "SHfwpC-PmRIa"
      },
      "source": [
        "# Topic Modeling\n",
        "\n",
        "We will be working with a dataset of  quora questions (please download from eLearning) that have no labeled cateogry and attempt to find representtaive topics for the questions. We will try different topic modeling appraoches.\n",
        "The choice of number of topics will depend on what number gives you meaningful topics. "
      ]
    },
    {
      "cell_type": "code",
      "metadata": {
        "colab": {
          "base_uri": "https://localhost:8080/"
        },
        "id": "aZoFETnYAay_",
        "outputId": "d388baa5-cd79-4e0e-bef6-af2a11210d39"
      },
      "source": [
        "from google.colab import drive\r\n",
        "drive.mount('/content/gdrive')"
      ],
      "execution_count": 1,
      "outputs": [
        {
          "output_type": "stream",
          "text": [
            "Mounted at /content/gdrive\n"
          ],
          "name": "stdout"
        }
      ]
    },
    {
      "cell_type": "code",
      "metadata": {
        "id": "qHG4OGwsCHJb"
      },
      "source": [
        "from pathlib import Path"
      ],
      "execution_count": 2,
      "outputs": []
    },
    {
      "cell_type": "code",
      "metadata": {
        "id": "B5SO1_ndCJPe"
      },
      "source": [
        "data = Path('/content/gdrive/MyDrive/NLP/2_Lecture')"
      ],
      "execution_count": 3,
      "outputs": []
    },
    {
      "cell_type": "code",
      "metadata": {
        "id": "wTRbUZFSp_Ya"
      },
      "source": [
        "import pandas as pd\n",
        "\n",
        "qoura_questions = pd.read_csv(data/\"quora_questions.csv\")\n",
        "#qoura_questions = qoura_questions[0:10000]"
      ],
      "execution_count": 4,
      "outputs": []
    },
    {
      "cell_type": "code",
      "metadata": {
        "colab": {
          "base_uri": "https://localhost:8080/"
        },
        "id": "XS_LN-ffCdRL",
        "outputId": "76c844ac-c6eb-4456-a8e9-f2d451f1bef3"
      },
      "source": [
        "qoura_questions.shape"
      ],
      "execution_count": 11,
      "outputs": [
        {
          "output_type": "execute_result",
          "data": {
            "text/plain": [
              "(404289, 1)"
            ]
          },
          "metadata": {
            "tags": []
          },
          "execution_count": 11
        }
      ]
    },
    {
      "cell_type": "code",
      "metadata": {
        "id": "xLYVQgL2xbFn"
      },
      "source": [
        "from sklearn.model_selection import train_test_split\n",
        "\n",
        "train, test = train_test_split(qoura_questions, test_size=0.2)\n"
      ],
      "execution_count": 7,
      "outputs": []
    },
    {
      "cell_type": "code",
      "metadata": {
        "id": "WipHcv9lvDq_"
      },
      "source": [
        "from sklearn.feature_extraction.text import CountVectorizer, TfidfVectorizer\n",
        "tfidf = TfidfVectorizer(max_df=0.95, min_df=2, stop_words='english')"
      ],
      "execution_count": 8,
      "outputs": []
    },
    {
      "cell_type": "code",
      "metadata": {
        "id": "C309jCAmwjL-",
        "colab": {
          "base_uri": "https://localhost:8080/"
        },
        "outputId": "9f08a7af-8c6f-404c-ff77-c61862fbfe48"
      },
      "source": [
        "train_vectors = tfidf.fit_transform(train['Question']) \n",
        "train_vectors.shape # (documents, vocab)"
      ],
      "execution_count": 9,
      "outputs": [
        {
          "output_type": "execute_result",
          "data": {
            "text/plain": [
              "(323431, 34928)"
            ]
          },
          "metadata": {
            "tags": []
          },
          "execution_count": 9
        }
      ]
    },
    {
      "cell_type": "code",
      "metadata": {
        "id": "viZnBL7zyY9O"
      },
      "source": [
        "test_vectors = tfidf.transform(test['Question']) "
      ],
      "execution_count": null,
      "outputs": []
    },
    {
      "cell_type": "code",
      "metadata": {
        "id": "gX8oz17bybMh"
      },
      "source": [
        "import numpy as np\n",
        "vocab = np.array(tfidf.get_feature_names())"
      ],
      "execution_count": null,
      "outputs": []
    },
    {
      "cell_type": "code",
      "metadata": {
        "id": "a9PLJU4_yiyg",
        "colab": {
          "base_uri": "https://localhost:8080/",
          "height": 34
        },
        "outputId": "5dce6706-6824-42ac-eefc-3b0ee4364352"
      },
      "source": [
        "vocab.shape"
      ],
      "execution_count": null,
      "outputs": [
        {
          "output_type": "execute_result",
          "data": {
            "text/plain": [
              "(34939,)"
            ]
          },
          "metadata": {
            "tags": []
          },
          "execution_count": 230
        }
      ]
    },
    {
      "cell_type": "code",
      "metadata": {
        "id": "ZTqsEj5FymzE",
        "colab": {
          "base_uri": "https://localhost:8080/",
          "height": 118
        },
        "outputId": "4302d376-3632-4094-ffda-a89f0f09a390"
      },
      "source": [
        "vocab[1000:1050]"
      ],
      "execution_count": null,
      "outputs": [
        {
          "output_type": "execute_result",
          "data": {
            "text/plain": [
              "array(['73', '730', '732', '74', '741', '747', '747s', '75', '750',\n",
              "       '7500u', '750d', '750w', '75g', '75k', '76', '760', '77', '771',\n",
              "       '775', '777', '778', '78', '786', '787', '79', '797', '7am',\n",
              "       '7cpc', '7d', '7ghz', '7k', '7kgs', '7km', '7m', '7mm', '7pm',\n",
              "       '7th', '7up', '7x', '7y', '7z', '80', '800', '8000', '80000',\n",
              "       '8009315079', '800b0001', '800m', '801', '802'], dtype='<U26')"
            ]
          },
          "metadata": {
            "tags": []
          },
          "execution_count": 231
        }
      ]
    },
    {
      "cell_type": "markdown",
      "metadata": {
        "id": "Xdv9E8x0yuIg"
      },
      "source": [
        "# Truncated SVD\n"
      ]
    },
    {
      "cell_type": "code",
      "metadata": {
        "id": "D62D_JLWyrdu"
      },
      "source": [
        "from sklearn.decomposition import TruncatedSVD\n",
        "\n",
        "model = TruncatedSVD(n_components=7,random_state=42)"
      ],
      "execution_count": null,
      "outputs": []
    },
    {
      "cell_type": "code",
      "metadata": {
        "id": "wB0rULtfyzzv",
        "colab": {
          "base_uri": "https://localhost:8080/",
          "height": 50
        },
        "outputId": "9a6d3cf5-e43a-4115-add3-dd09e99409b5"
      },
      "source": [
        "# fit the model to train data\n",
        "model.fit(train_vectors)"
      ],
      "execution_count": null,
      "outputs": [
        {
          "output_type": "execute_result",
          "data": {
            "text/plain": [
              "TruncatedSVD(algorithm='randomized', n_components=7, n_iter=5, random_state=42,\n",
              "             tol=0.0)"
            ]
          },
          "metadata": {
            "tags": []
          },
          "execution_count": 233
        }
      ]
    },
    {
      "cell_type": "code",
      "metadata": {
        "id": "1XvIjPkuy81l",
        "colab": {
          "base_uri": "https://localhost:8080/",
          "height": 34
        },
        "outputId": "5d22534a-74e5-4ed5-881a-b40d466db6e5"
      },
      "source": [
        "len(tfidf.get_feature_names())"
      ],
      "execution_count": null,
      "outputs": [
        {
          "output_type": "execute_result",
          "data": {
            "text/plain": [
              "34939"
            ]
          },
          "metadata": {
            "tags": []
          },
          "execution_count": 234
        }
      ]
    },
    {
      "cell_type": "code",
      "metadata": {
        "id": "VEgoYr7ozAda",
        "colab": {
          "base_uri": "https://localhost:8080/",
          "height": 185
        },
        "outputId": "a613c55c-6a95-4b91-c50a-100931024326"
      },
      "source": [
        "import random \n",
        "for i in range(10):\n",
        "    random_word_id = random.randint(0,4494)\n",
        "    print(tfidf.get_feature_names()[random_word_id])"
      ],
      "execution_count": null,
      "outputs": [
        {
          "output_type": "stream",
          "text": [
            "bigots\n",
            "airfoil\n",
            "145\n",
            "300m\n",
            "ahoy\n",
            "710\n",
            "317\n",
            "176\n",
            "1997\n",
            "apk\n"
          ],
          "name": "stdout"
        }
      ]
    },
    {
      "cell_type": "code",
      "metadata": {
        "id": "UqbamelJzNZd",
        "colab": {
          "base_uri": "https://localhost:8080/",
          "height": 34
        },
        "outputId": "9ac19740-ad4c-42d0-9faa-989e588ad11c"
      },
      "source": [
        "len(model.components_)"
      ],
      "execution_count": null,
      "outputs": [
        {
          "output_type": "execute_result",
          "data": {
            "text/plain": [
              "7"
            ]
          },
          "metadata": {
            "tags": []
          },
          "execution_count": 236
        }
      ]
    },
    {
      "cell_type": "code",
      "metadata": {
        "id": "dbk79rs3zIGY",
        "colab": {
          "base_uri": "https://localhost:8080/",
          "height": 235
        },
        "outputId": "bf5ee327-ebba-4093-d448-b3c593f87d05"
      },
      "source": [
        "model.components_"
      ],
      "execution_count": null,
      "outputs": [
        {
          "output_type": "execute_result",
          "data": {
            "text/plain": [
              "array([[ 1.60171597e-04,  8.40682153e-03,  2.59957240e-04, ...,\n",
              "         1.29033468e-06,  3.23678494e-05,  1.29033468e-06],\n",
              "       [ 2.71444555e-04,  2.54141435e-03, -1.11195628e-04, ...,\n",
              "         1.96127475e-06,  2.65928064e-04,  1.96127475e-06],\n",
              "       [-1.18677650e-04, -1.21777184e-04, -1.18206313e-05, ...,\n",
              "        -4.05012179e-07, -2.72300322e-04, -4.05012179e-07],\n",
              "       ...,\n",
              "       [ 1.03246177e-04,  5.16359666e-04, -3.75953932e-05, ...,\n",
              "        -2.97359803e-06, -2.20207134e-04, -2.97359803e-06],\n",
              "       [ 1.79751166e-04,  1.56369554e-03,  2.96041224e-05, ...,\n",
              "         8.86826636e-07, -7.99875622e-05,  8.86826636e-07],\n",
              "       [ 6.83480817e-05, -2.42867207e-03, -1.23582666e-04, ...,\n",
              "         8.39305785e-06, -6.19852758e-05,  8.39305785e-06]])"
            ]
          },
          "metadata": {
            "tags": []
          },
          "execution_count": 237
        }
      ]
    },
    {
      "cell_type": "code",
      "metadata": {
        "id": "WVO0QFtT0DSf",
        "colab": {
          "base_uri": "https://localhost:8080/",
          "height": 507
        },
        "outputId": "823f8a46-acec-4df4-eab9-26641ed3c72f"
      },
      "source": [
        "for index,topic in enumerate(model.components_):\n",
        "    print(f'THE TOP 15 WORDS FOR TOPIC #{index}')\n",
        "    print([tfidf.get_feature_names()[i] for i in topic.argsort()[-15:]])\n",
        "    print('\\n')"
      ],
      "execution_count": null,
      "outputs": [
        {
          "output_type": "stream",
          "text": [
            "THE TOP 15 WORDS FOR TOPIC #0\n",
            "['movies', 'programming', 'book', 'books', 'ways', 'life', 'quora', 'online', 'does', 'make', 'money', 'india', 'learn', 'way', 'best']\n",
            "\n",
            "\n",
            "THE TOP 15 WORDS FOR TOPIC #1\n",
            "['ask', 'earn', 'question', 'online', 'work', 'life', 'feel', 'questions', 'mean', 'like', 'people', 'make', 'money', 'quora', 'does']\n",
            "\n",
            "\n",
            "THE TOP 15 WORDS FOR TOPIC #2\n",
            "['earn', 'delete', 'online', 'easily', 'asked', 'make', 'google', 'money', 'answer', 'answers', 'ask', 'question', 'questions', 'people', 'quora']\n",
            "\n",
            "\n",
            "THE TOP 15 WORDS FOR TOPIC #3\n",
            "['india', 'rs', 'easy', 'rupee', 'youtube', 'black', 'ways', 'notes', '1000', '500', 'way', 'earn', 'online', 'make', 'money']\n",
            "\n",
            "\n",
            "THE TOP 15 WORDS FOR TOPIC #4\n",
            "['things', 'important', 'thing', 'did', 'like', 'purpose', 'good', 'love', 'think', 'donald', 'india', 'know', 'trump', 'people', 'life']\n",
            "\n",
            "\n",
            "THE TOP 15 WORDS FOR TOPIC #5\n",
            "['pakistan', 'war', 'did', 'win', '1000', 'notes', '500', 'think', 'hillary', 'clinton', 'president', 'people', 'donald', 'trump', 'india']\n",
            "\n",
            "\n",
            "THE TOP 15 WORDS FOR TOPIC #6\n",
            "['make', 'skills', 'love', 'donald', 'like', 'way', 'trump', 'know', 'programming', 'improve', 'language', 'good', 'people', 'english', 'learn']\n",
            "\n",
            "\n"
          ],
          "name": "stdout"
        }
      ]
    },
    {
      "cell_type": "code",
      "metadata": {
        "id": "v-m7ElwG0HOo"
      },
      "source": [
        "def plot_important_features(coef, feature_names, top_n=20, ax=None):\n",
        "    if ax is None:\n",
        "        ax = plt.gca()\n",
        "    inds = np.argsort(np.abs(coef))[-top_n:]\n",
        "    important_coefs = coef[inds]\n",
        "    sort_sign = np.argsort(important_coefs)\n",
        "    myrange = range(len(inds))\n",
        "    combined_inds = inds[sort_sign]\n",
        "\n",
        "    ax.bar(myrange, coef[combined_inds])\n",
        "    ax.set_xticks(myrange)\n",
        "    ax.set_xticklabels(feature_names[combined_inds], rotation=60, ha=\"right\")"
      ],
      "execution_count": null,
      "outputs": []
    },
    {
      "cell_type": "code",
      "metadata": {
        "id": "9kTH_32m0Jwj",
        "colab": {
          "base_uri": "https://localhost:8080/",
          "height": 729
        },
        "outputId": "d7ecb364-92a4-48d2-9024-358ef7fcec7d"
      },
      "source": [
        "import matplotlib.pyplot as plt\n",
        "%matplotlib inline\n",
        "\n",
        "feature_names = np.array(tfidf.get_feature_names())\n",
        "n_components = 5\n",
        "fig, axes = plt.subplots(2,4, figsize=(10, 10))\n",
        "for ax, coef in zip(axes.ravel(), model.components_):\n",
        "    plot_important_features(coef, feature_names, top_n=10, ax=ax)\n",
        "    \n",
        "plt.tight_layout()"
      ],
      "execution_count": null,
      "outputs": [
        {
          "output_type": "display_data",
          "data": {
            "image/png": "[encoded data removed]",
            "text/plain": [
              "<Figure size 720x720 with 8 Axes>"
            ]
          },
          "metadata": {
            "tags": [],
            "needs_background": "light"
          }
        }
      ]
    },
    {
      "cell_type": "markdown",
      "metadata": {
        "id": "W_5DbRQaezBm"
      },
      "source": [
        "interpreatation:\n",
        "# Plot 1 \n",
        "This topic can be categorized for questions which are related \"best way to learn to make money online\"\n",
        "# Plot 2 :\n",
        "May be can be interpreted like \"does qoura make money on questions from people\"\n",
        "#plot 3:\n",
        "Not able to interpret properly but this is related to \"asking questions on qoura \"\n",
        "\n",
        "#plot 4 :\n",
        "May be related to how to \"does answers to questions on qoura are liked by people\" but not very appropriate\n",
        "\n",
        "# plot 5:\n",
        "\"talking about how much does donald trump know about life in india\"\n",
        "\n",
        "# plot 6 :\n",
        "Talking about \"trump and clinton people in India\". Even this we are not able to interpret completely\"\n",
        "\n",
        "# plot 7 :\n",
        "\n",
        "\"How to learn english language or programming language in India\"\n",
        "\n",
        "# Based on this topics, it was able to identify few patterns but it was not able to clearly distinguish between topics"
      ]
    },
    {
      "cell_type": "code",
      "metadata": {
        "id": "9o7n7wjo0ck1"
      },
      "source": [
        "topic_train = model.transform(train_vectors)"
      ],
      "execution_count": null,
      "outputs": []
    },
    {
      "cell_type": "code",
      "metadata": {
        "id": "cy0UkQ030ecw",
        "colab": {
          "base_uri": "https://localhost:8080/",
          "height": 34
        },
        "outputId": "1ba55881-c5bc-4ae4-fadf-1bbd6e149774"
      },
      "source": [
        "topic_train.shape"
      ],
      "execution_count": null,
      "outputs": [
        {
          "output_type": "execute_result",
          "data": {
            "text/plain": [
              "(323431, 7)"
            ]
          },
          "metadata": {
            "tags": []
          },
          "execution_count": 242
        }
      ]
    },
    {
      "cell_type": "code",
      "metadata": {
        "id": "F61nbWwL0gZm",
        "colab": {
          "base_uri": "https://localhost:8080/",
          "height": 50
        },
        "outputId": "f6e147f5-acd4-49da-be5e-0503c43e93ae"
      },
      "source": [
        "topic_train[0]"
      ],
      "execution_count": null,
      "outputs": [
        {
          "output_type": "execute_result",
          "data": {
            "text/plain": [
              "array([ 0.01463236,  0.01320384, -0.00331768, -0.00278418,  0.0189305 ,\n",
              "        0.00227534,  0.00801581])"
            ]
          },
          "metadata": {
            "tags": []
          },
          "execution_count": 243
        }
      ]
    },
    {
      "cell_type": "code",
      "metadata": {
        "id": "s2AEoJ-M0jQw",
        "colab": {
          "base_uri": "https://localhost:8080/",
          "height": 34
        },
        "outputId": "3b8fecdb-db9c-4377-d0e0-42d66f58e33f"
      },
      "source": [
        "topic_train[0].round(2)"
      ],
      "execution_count": null,
      "outputs": [
        {
          "output_type": "execute_result",
          "data": {
            "text/plain": [
              "array([ 0.01,  0.01, -0.  , -0.  ,  0.02,  0.  ,  0.01])"
            ]
          },
          "metadata": {
            "tags": []
          },
          "execution_count": 244
        }
      ]
    },
    {
      "cell_type": "code",
      "metadata": {
        "id": "0tCOhHbo0lmt",
        "colab": {
          "base_uri": "https://localhost:8080/",
          "height": 34
        },
        "outputId": "bb17fb7e-a613-4abb-9c69-34b28b927e74"
      },
      "source": [
        "topic_train[0].argmax()"
      ],
      "execution_count": null,
      "outputs": [
        {
          "output_type": "execute_result",
          "data": {
            "text/plain": [
              "4"
            ]
          },
          "metadata": {
            "tags": []
          },
          "execution_count": 245
        }
      ]
    },
    {
      "cell_type": "markdown",
      "metadata": {
        "id": "P5e6gLyH0s4R"
      },
      "source": [
        "##### this means that our models thinks that first article belongs to topic 1"
      ]
    },
    {
      "cell_type": "code",
      "metadata": {
        "id": "ak2xAGGu0nlw",
        "colab": {
          "base_uri": "https://localhost:8080/",
          "height": 138
        },
        "outputId": "26a9adbb-ec2c-443c-ccb2-28bbbde86214"
      },
      "source": [
        "train['Topic'] = topic_train.argmax(axis=1)"
      ],
      "execution_count": null,
      "outputs": [
        {
          "output_type": "stream",
          "text": [
            "/usr/local/lib/python3.6/dist-packages/ipykernel_launcher.py:1: SettingWithCopyWarning: \n",
            "A value is trying to be set on a copy of a slice from a DataFrame.\n",
            "Try using .loc[row_indexer,col_indexer] = value instead\n",
            "\n",
            "See the caveats in the documentation: https://pandas.pydata.org/pandas-docs/stable/user_guide/indexing.html#returning-a-view-versus-a-copy\n",
            "  \"\"\"Entry point for launching an IPython kernel.\n"
          ],
          "name": "stderr"
        }
      ]
    },
    {
      "cell_type": "code",
      "metadata": {
        "id": "2-zcfCnm1TML",
        "colab": {
          "base_uri": "https://localhost:8080/",
          "height": 314
        },
        "outputId": "8507519e-330a-41bb-86a9-f17c97acd470"
      },
      "source": [
        "train.iloc[1:10,:]"
      ],
      "execution_count": null,
      "outputs": [
        {
          "output_type": "execute_result",
          "data": {
            "text/html": [
              "<div>\n",
              "<style scoped>\n",
              "    .dataframe tbody tr th:only-of-type {\n",
              "        vertical-align: middle;\n",
              "    }\n",
              "\n",
              "    .dataframe tbody tr th {\n",
              "        vertical-align: top;\n",
              "    }\n",
              "\n",
              "    .dataframe thead th {\n",
              "        text-align: right;\n",
              "    }\n",
              "</style>\n",
              "<table border=\"1\" class=\"dataframe\">\n",
              "  <thead>\n",
              "    <tr style=\"text-align: right;\">\n",
              "      <th></th>\n",
              "      <th>Question</th>\n",
              "      <th>Topic</th>\n",
              "    </tr>\n",
              "  </thead>\n",
              "  <tbody>\n",
              "    <tr>\n",
              "      <th>341847</th>\n",
              "      <td>Cars in India: Which one is better, Honda Amaz...</td>\n",
              "      <td>5</td>\n",
              "    </tr>\n",
              "    <tr>\n",
              "      <th>104587</th>\n",
              "      <td>What is your feedback about the Volkswagen Ven...</td>\n",
              "      <td>1</td>\n",
              "    </tr>\n",
              "    <tr>\n",
              "      <th>137963</th>\n",
              "      <td>Why is it so hard to get a Networking (Cisco) ...</td>\n",
              "      <td>5</td>\n",
              "    </tr>\n",
              "    <tr>\n",
              "      <th>191510</th>\n",
              "      <td>What is rave party?</td>\n",
              "      <td>5</td>\n",
              "    </tr>\n",
              "    <tr>\n",
              "      <th>202816</th>\n",
              "      <td>How much PHP is hard?</td>\n",
              "      <td>6</td>\n",
              "    </tr>\n",
              "    <tr>\n",
              "      <th>105270</th>\n",
              "      <td>What are some examples of companies who focuse...</td>\n",
              "      <td>0</td>\n",
              "    </tr>\n",
              "    <tr>\n",
              "      <th>157079</th>\n",
              "      <td>Who is tripitaka the Buddhist?</td>\n",
              "      <td>5</td>\n",
              "    </tr>\n",
              "    <tr>\n",
              "      <th>185940</th>\n",
              "      <td>How long does meth say in your urine?</td>\n",
              "      <td>1</td>\n",
              "    </tr>\n",
              "    <tr>\n",
              "      <th>182591</th>\n",
              "      <td>What are the advantages and disadvantages of b...</td>\n",
              "      <td>5</td>\n",
              "    </tr>\n",
              "  </tbody>\n",
              "</table>\n",
              "</div>"
            ],
            "text/plain": [
              "                                                 Question  Topic\n",
              "341847  Cars in India: Which one is better, Honda Amaz...      5\n",
              "104587  What is your feedback about the Volkswagen Ven...      1\n",
              "137963  Why is it so hard to get a Networking (Cisco) ...      5\n",
              "191510                                What is rave party?      5\n",
              "202816                              How much PHP is hard?      6\n",
              "105270  What are some examples of companies who focuse...      0\n",
              "157079                     Who is tripitaka the Buddhist?      5\n",
              "185940              How long does meth say in your urine?      1\n",
              "182591  What are the advantages and disadvantages of b...      5"
            ]
          },
          "metadata": {
            "tags": []
          },
          "execution_count": 247
        }
      ]
    },
    {
      "cell_type": "code",
      "metadata": {
        "id": "W5YIiQ9X1X7L"
      },
      "source": [
        "topic_test = model.transform(test_vectors)"
      ],
      "execution_count": null,
      "outputs": []
    },
    {
      "cell_type": "code",
      "metadata": {
        "id": "feBgrv3B1aUp",
        "colab": {
          "base_uri": "https://localhost:8080/",
          "height": 138
        },
        "outputId": "c28dd5a9-74b3-45ee-89cd-8d41978d3921"
      },
      "source": [
        "test['Topic'] = topic_test.argmax(axis=1)"
      ],
      "execution_count": null,
      "outputs": [
        {
          "output_type": "stream",
          "text": [
            "/usr/local/lib/python3.6/dist-packages/ipykernel_launcher.py:1: SettingWithCopyWarning: \n",
            "A value is trying to be set on a copy of a slice from a DataFrame.\n",
            "Try using .loc[row_indexer,col_indexer] = value instead\n",
            "\n",
            "See the caveats in the documentation: https://pandas.pydata.org/pandas-docs/stable/user_guide/indexing.html#returning-a-view-versus-a-copy\n",
            "  \"\"\"Entry point for launching an IPython kernel.\n"
          ],
          "name": "stderr"
        }
      ]
    },
    {
      "cell_type": "code",
      "metadata": {
        "id": "IAEzC0d21bFD",
        "colab": {
          "base_uri": "https://localhost:8080/",
          "height": 314
        },
        "outputId": "ea803265-0c37-4738-e8f5-2baef081c113"
      },
      "source": [
        "test.iloc[1:10,:]"
      ],
      "execution_count": null,
      "outputs": [
        {
          "output_type": "execute_result",
          "data": {
            "text/html": [
              "<div>\n",
              "<style scoped>\n",
              "    .dataframe tbody tr th:only-of-type {\n",
              "        vertical-align: middle;\n",
              "    }\n",
              "\n",
              "    .dataframe tbody tr th {\n",
              "        vertical-align: top;\n",
              "    }\n",
              "\n",
              "    .dataframe thead th {\n",
              "        text-align: right;\n",
              "    }\n",
              "</style>\n",
              "<table border=\"1\" class=\"dataframe\">\n",
              "  <thead>\n",
              "    <tr style=\"text-align: right;\">\n",
              "      <th></th>\n",
              "      <th>Question</th>\n",
              "      <th>Topic</th>\n",
              "    </tr>\n",
              "  </thead>\n",
              "  <tbody>\n",
              "    <tr>\n",
              "      <th>86823</th>\n",
              "      <td>I am going to take admission in FIITJEE Kalu S...</td>\n",
              "      <td>0</td>\n",
              "    </tr>\n",
              "    <tr>\n",
              "      <th>112874</th>\n",
              "      <td>How can l improve my English？?</td>\n",
              "      <td>6</td>\n",
              "    </tr>\n",
              "    <tr>\n",
              "      <th>69029</th>\n",
              "      <td>What is the translation of \"there was\" in French?</td>\n",
              "      <td>6</td>\n",
              "    </tr>\n",
              "    <tr>\n",
              "      <th>230113</th>\n",
              "      <td>What is a good mother like?</td>\n",
              "      <td>6</td>\n",
              "    </tr>\n",
              "    <tr>\n",
              "      <th>331771</th>\n",
              "      <td>Top ten websites?</td>\n",
              "      <td>0</td>\n",
              "    </tr>\n",
              "    <tr>\n",
              "      <th>258537</th>\n",
              "      <td>Does Ne-Yo currently have a girlfriend?</td>\n",
              "      <td>1</td>\n",
              "    </tr>\n",
              "    <tr>\n",
              "      <th>317699</th>\n",
              "      <td>How are cars made?</td>\n",
              "      <td>6</td>\n",
              "    </tr>\n",
              "    <tr>\n",
              "      <th>137428</th>\n",
              "      <td>What have you created with C#?</td>\n",
              "      <td>1</td>\n",
              "    </tr>\n",
              "    <tr>\n",
              "      <th>325074</th>\n",
              "      <td>What are your new year resolutions for 2017?</td>\n",
              "      <td>4</td>\n",
              "    </tr>\n",
              "  </tbody>\n",
              "</table>\n",
              "</div>"
            ],
            "text/plain": [
              "                                                 Question  Topic\n",
              "86823   I am going to take admission in FIITJEE Kalu S...      0\n",
              "112874                     How can l improve my English？?      6\n",
              "69029   What is the translation of \"there was\" in French?      6\n",
              "230113                        What is a good mother like?      6\n",
              "331771                                  Top ten websites?      0\n",
              "258537            Does Ne-Yo currently have a girlfriend?      1\n",
              "317699                                 How are cars made?      6\n",
              "137428                     What have you created with C#?      1\n",
              "325074       What are your new year resolutions for 2017?      4"
            ]
          },
          "metadata": {
            "tags": []
          },
          "execution_count": 250
        }
      ]
    },
    {
      "cell_type": "markdown",
      "metadata": {
        "id": "RGUs97BK4hLu"
      },
      "source": [
        "# NMF"
      ]
    },
    {
      "cell_type": "code",
      "metadata": {
        "id": "EJL1Fxt29bqj"
      },
      "source": [
        "from sklearn.decomposition import NMF"
      ],
      "execution_count": null,
      "outputs": []
    },
    {
      "cell_type": "code",
      "metadata": {
        "id": "xFUOQjdC9dYJ"
      },
      "source": [
        "model = NMF(n_components=7,random_state=42)"
      ],
      "execution_count": null,
      "outputs": []
    },
    {
      "cell_type": "code",
      "metadata": {
        "id": "eCEOstQZ9fLS",
        "colab": {
          "base_uri": "https://localhost:8080/",
          "height": 67
        },
        "outputId": "dd5f7d44-a528-4509-dd14-0d6a168dcb63"
      },
      "source": [
        "# fit the model to train data\n",
        "model.fit(train_vectors)"
      ],
      "execution_count": null,
      "outputs": [
        {
          "output_type": "execute_result",
          "data": {
            "text/plain": [
              "NMF(alpha=0.0, beta_loss='frobenius', init=None, l1_ratio=0.0, max_iter=200,\n",
              "    n_components=7, random_state=42, shuffle=False, solver='cd', tol=0.0001,\n",
              "    verbose=0)"
            ]
          },
          "metadata": {
            "tags": []
          },
          "execution_count": 254
        }
      ]
    },
    {
      "cell_type": "code",
      "metadata": {
        "id": "ItKkkNBW9ggQ",
        "colab": {
          "base_uri": "https://localhost:8080/",
          "height": 34
        },
        "outputId": "6320b958-d957-4a76-f3d7-ffefabd40f71"
      },
      "source": [
        "len(tfidf.get_feature_names())"
      ],
      "execution_count": null,
      "outputs": [
        {
          "output_type": "execute_result",
          "data": {
            "text/plain": [
              "34939"
            ]
          },
          "metadata": {
            "tags": []
          },
          "execution_count": 255
        }
      ]
    },
    {
      "cell_type": "code",
      "metadata": {
        "id": "umyYn-NN9j7S"
      },
      "source": [
        "import random"
      ],
      "execution_count": null,
      "outputs": []
    },
    {
      "cell_type": "code",
      "metadata": {
        "id": "NEPDn-PP9m4W",
        "colab": {
          "base_uri": "https://localhost:8080/",
          "height": 185
        },
        "outputId": "ea69be49-49de-4a51-d621-cf04f4ab783b"
      },
      "source": [
        "for i in range(10):\n",
        "    random_word_id = random.randint(0,4459)\n",
        "    print(tfidf.get_feature_names()[random_word_id])"
      ],
      "execution_count": null,
      "outputs": [
        {
          "output_type": "stream",
          "text": [
            "bhishma\n",
            "bam\n",
            "1929\n",
            "1607\n",
            "aviato\n",
            "aren\n",
            "acetaminophen\n",
            "antichrist\n",
            "bdm\n",
            "adaptation\n"
          ],
          "name": "stdout"
        }
      ]
    },
    {
      "cell_type": "code",
      "metadata": {
        "id": "dtkw4FYO9qHJ",
        "colab": {
          "base_uri": "https://localhost:8080/",
          "height": 34
        },
        "outputId": "8aa9bab6-a5f7-49a5-a3d6-5796d771bfcb"
      },
      "source": [
        "len(model.components_)"
      ],
      "execution_count": null,
      "outputs": [
        {
          "output_type": "execute_result",
          "data": {
            "text/plain": [
              "7"
            ]
          },
          "metadata": {
            "tags": []
          },
          "execution_count": 258
        }
      ]
    },
    {
      "cell_type": "code",
      "metadata": {
        "id": "dVB4ZJRW9tvc",
        "colab": {
          "base_uri": "https://localhost:8080/",
          "height": 235
        },
        "outputId": "d9531a86-5f0f-471d-eefa-b4f1b6664680"
      },
      "source": [
        "model.components_"
      ],
      "execution_count": null,
      "outputs": [
        {
          "output_type": "execute_result",
          "data": {
            "text/plain": [
              "array([[1.16891052e-04, 4.63910484e-02, 2.24126333e-03, ...,\n",
              "        0.00000000e+00, 0.00000000e+00, 0.00000000e+00],\n",
              "       [1.54718084e-03, 2.89937583e-03, 0.00000000e+00, ...,\n",
              "        2.93972763e-06, 3.30326239e-03, 2.93972763e-06],\n",
              "       [7.24600650e-05, 0.00000000e+00, 0.00000000e+00, ...,\n",
              "        0.00000000e+00, 0.00000000e+00, 0.00000000e+00],\n",
              "       ...,\n",
              "       [2.24265168e-04, 3.55668872e-03, 0.00000000e+00, ...,\n",
              "        1.57732489e-06, 0.00000000e+00, 1.57732489e-06],\n",
              "       [1.09454822e-03, 1.15879940e-02, 0.00000000e+00, ...,\n",
              "        1.20060902e-05, 0.00000000e+00, 1.20060902e-05],\n",
              "       [6.14802573e-04, 0.00000000e+00, 0.00000000e+00, ...,\n",
              "        3.31075318e-05, 0.00000000e+00, 3.31075318e-05]])"
            ]
          },
          "metadata": {
            "tags": []
          },
          "execution_count": 259
        }
      ]
    },
    {
      "cell_type": "code",
      "metadata": {
        "id": "Vg4537Vl9xTh",
        "colab": {
          "base_uri": "https://localhost:8080/",
          "height": 507
        },
        "outputId": "ecfe97e0-10ac-46b6-91c0-52842d12cf43"
      },
      "source": [
        "for index,topic in enumerate(model.components_):\n",
        "    print(f'THE TOP 15 WORDS FOR TOPIC #{index}')\n",
        "    print([tfidf.get_feature_names()[i] for i in topic.argsort()[-15:]])\n",
        "    print('\\n')"
      ],
      "execution_count": null,
      "outputs": [
        {
          "output_type": "stream",
          "text": [
            "THE TOP 15 WORDS FOR TOPIC #0\n",
            "['places', 'phone', 'lose', 'buy', 'laptop', 'time', 'movie', '2016', 'ways', 'weight', 'books', 'book', 'movies', 'way', 'best']\n",
            "\n",
            "\n",
            "THE TOP 15 WORDS FOR TOPIC #1\n",
            "['exist', 'compare', 'look', 'cost', 'really', 'girl', 'love', 'long', 'sex', 'time', 'work', 'feel', 'like', 'mean', 'does']\n",
            "\n",
            "\n",
            "THE TOP 15 WORDS FOR TOPIC #2\n",
            "['post', 'answered', 'use', 'improvement', 'delete', 'easily', 'asked', 'google', 'answer', 'answers', 'ask', 'question', 'people', 'questions', 'quora']\n",
            "\n",
            "\n",
            "THE TOP 15 WORDS FOR TOPIC #3\n",
            "['internet', 'rupee', 'home', 'easy', 'notes', '500', '1000', 'black', 'youtube', 'ways', 'way', 'earn', 'online', 'make', 'money']\n",
            "\n",
            "\n",
            "THE TOP 15 WORDS FOR TOPIC #4\n",
            "['like', 'change', 'moment', 'employees', 'want', 'real', 'love', 'day', 'things', 'important', 'thing', 'know', 'meaning', 'purpose', 'life']\n",
            "\n",
            "\n",
            "THE TOP 15 WORDS FOR TOPIC #5\n",
            "['pakistan', 'war', 'people', '1000', 'notes', '500', 'win', 'think', 'did', 'hillary', 'clinton', 'president', 'donald', 'trump', 'india']\n",
            "\n",
            "\n",
            "THE TOP 15 WORDS FOR TOPIC #6\n",
            "['python', 'speaking', 'java', 'writing', 'speak', 'learning', 'skills', 'start', 'way', 'good', 'programming', 'improve', 'language', 'english', 'learn']\n",
            "\n",
            "\n"
          ],
          "name": "stdout"
        }
      ]
    },
    {
      "cell_type": "code",
      "metadata": {
        "id": "ebkKOkYD9ycW"
      },
      "source": [
        "def plot_important_features(coef, feature_names, top_n=20, ax=None):\n",
        "    if ax is None:\n",
        "        ax = plt.gca()\n",
        "    inds = np.argsort(np.abs(coef))[-top_n:]\n",
        "    important_coefs = coef[inds]\n",
        "    sort_sign = np.argsort(important_coefs)\n",
        "    myrange = range(len(inds))\n",
        "    combined_inds = inds[sort_sign]\n",
        "\n",
        "    ax.bar(myrange, coef[combined_inds])\n",
        "    ax.set_xticks(myrange)\n",
        "    ax.set_xticklabels(feature_names[combined_inds], rotation=60, ha=\"right\")"
      ],
      "execution_count": null,
      "outputs": []
    },
    {
      "cell_type": "code",
      "metadata": {
        "id": "QDpX2pi091YF",
        "colab": {
          "base_uri": "https://localhost:8080/",
          "height": 729
        },
        "outputId": "36ecc731-2aa6-4e1f-d26a-c3434b993861"
      },
      "source": [
        "feature_names = np.array(tfidf.get_feature_names())\n",
        "n_components = 5\n",
        "fig, axes = plt.subplots(2,4, figsize=(10, 10))\n",
        "for ax, coef in zip(axes.ravel(), model.components_):\n",
        "    plot_important_features(coef, feature_names, top_n=10, ax=ax)\n",
        "    \n",
        "plt.tight_layout()"
      ],
      "execution_count": null,
      "outputs": [
        {
          "output_type": "display_data",
          "data": {
            "image/png": "[encoded data removed]",
            "text/plain": [
              "<Figure size 720x720 with 8 Axes>"
            ]
          },
          "metadata": {
            "tags": [],
            "needs_background": "light"
          }
        }
      ]
    },
    {
      "cell_type": "markdown",
      "metadata": {
        "id": "dVlTrFyftgEC"
      },
      "source": [
        "Plot 1:\n",
        "\n",
        "\"Best movies or books in 2016\" \n",
        "\n",
        "PLot 2:\n",
        "\n",
        "\"relation between long sex time with loving a girl\"\n",
        "\n",
        "Plot 3:\n",
        "\n",
        "\"Qoura questions that can be easily asked on google\"\n",
        "\n",
        "Plot 4:\n",
        "\n",
        "\"making money through online using youtube and also about 500 and 1000 money\"\n",
        "\n",
        "Plot 5:\n",
        "\"purpose of life to know important things that you really love\"\n",
        "Plot 6:\n",
        "\"What india thinks will win between trump and clinton\"\n",
        "\n",
        "PLot 7:\n",
        "\"learn english language and programming\"\n",
        "\n",
        "Some of the interpretations match with truncated svd but still not able to segregate few topics and not able to interprate few topics\""
      ]
    },
    {
      "cell_type": "code",
      "metadata": {
        "id": "N5aUT_xL98AG"
      },
      "source": [
        "topic_train = model.transform(train_vectors)"
      ],
      "execution_count": null,
      "outputs": []
    },
    {
      "cell_type": "code",
      "metadata": {
        "id": "OWzOmf_c9844",
        "colab": {
          "base_uri": "https://localhost:8080/",
          "height": 34
        },
        "outputId": "7791fbf1-61a5-4f7e-9876-6181e7cf247b"
      },
      "source": [
        "topic_train[0].argmax()"
      ],
      "execution_count": null,
      "outputs": [
        {
          "output_type": "execute_result",
          "data": {
            "text/plain": [
              "4"
            ]
          },
          "metadata": {
            "tags": []
          },
          "execution_count": 264
        }
      ]
    },
    {
      "cell_type": "markdown",
      "metadata": {
        "id": "0mLQ3vbV-JFk"
      },
      "source": [
        "#####  This means that our model thinks that the first article belongs to topic #4.\n"
      ]
    },
    {
      "cell_type": "code",
      "metadata": {
        "id": "OMfBvSr1-Np3",
        "colab": {
          "base_uri": "https://localhost:8080/",
          "height": 138
        },
        "outputId": "51d5d155-858b-413f-a3bf-f5c23056470f"
      },
      "source": [
        "train['Topic'] = topic_train.argmax(axis=1)"
      ],
      "execution_count": null,
      "outputs": [
        {
          "output_type": "stream",
          "text": [
            "/usr/local/lib/python3.6/dist-packages/ipykernel_launcher.py:1: SettingWithCopyWarning: \n",
            "A value is trying to be set on a copy of a slice from a DataFrame.\n",
            "Try using .loc[row_indexer,col_indexer] = value instead\n",
            "\n",
            "See the caveats in the documentation: https://pandas.pydata.org/pandas-docs/stable/user_guide/indexing.html#returning-a-view-versus-a-copy\n",
            "  \"\"\"Entry point for launching an IPython kernel.\n"
          ],
          "name": "stderr"
        }
      ]
    },
    {
      "cell_type": "code",
      "metadata": {
        "id": "XkoPHQ0O-Sps",
        "colab": {
          "base_uri": "https://localhost:8080/",
          "height": 314
        },
        "outputId": "2003d89d-06e5-4ae1-e2f9-d226796c1d30"
      },
      "source": [
        "train.iloc[1:10,:]"
      ],
      "execution_count": null,
      "outputs": [
        {
          "output_type": "execute_result",
          "data": {
            "text/html": [
              "<div>\n",
              "<style scoped>\n",
              "    .dataframe tbody tr th:only-of-type {\n",
              "        vertical-align: middle;\n",
              "    }\n",
              "\n",
              "    .dataframe tbody tr th {\n",
              "        vertical-align: top;\n",
              "    }\n",
              "\n",
              "    .dataframe thead th {\n",
              "        text-align: right;\n",
              "    }\n",
              "</style>\n",
              "<table border=\"1\" class=\"dataframe\">\n",
              "  <thead>\n",
              "    <tr style=\"text-align: right;\">\n",
              "      <th></th>\n",
              "      <th>Question</th>\n",
              "      <th>Topic</th>\n",
              "    </tr>\n",
              "  </thead>\n",
              "  <tbody>\n",
              "    <tr>\n",
              "      <th>341847</th>\n",
              "      <td>Cars in India: Which one is better, Honda Amaz...</td>\n",
              "      <td>5</td>\n",
              "    </tr>\n",
              "    <tr>\n",
              "      <th>104587</th>\n",
              "      <td>What is your feedback about the Volkswagen Ven...</td>\n",
              "      <td>1</td>\n",
              "    </tr>\n",
              "    <tr>\n",
              "      <th>137963</th>\n",
              "      <td>Why is it so hard to get a Networking (Cisco) ...</td>\n",
              "      <td>5</td>\n",
              "    </tr>\n",
              "    <tr>\n",
              "      <th>191510</th>\n",
              "      <td>What is rave party?</td>\n",
              "      <td>5</td>\n",
              "    </tr>\n",
              "    <tr>\n",
              "      <th>202816</th>\n",
              "      <td>How much PHP is hard?</td>\n",
              "      <td>6</td>\n",
              "    </tr>\n",
              "    <tr>\n",
              "      <th>105270</th>\n",
              "      <td>What are some examples of companies who focuse...</td>\n",
              "      <td>5</td>\n",
              "    </tr>\n",
              "    <tr>\n",
              "      <th>157079</th>\n",
              "      <td>Who is tripitaka the Buddhist?</td>\n",
              "      <td>5</td>\n",
              "    </tr>\n",
              "    <tr>\n",
              "      <th>185940</th>\n",
              "      <td>How long does meth say in your urine?</td>\n",
              "      <td>1</td>\n",
              "    </tr>\n",
              "    <tr>\n",
              "      <th>182591</th>\n",
              "      <td>What are the advantages and disadvantages of b...</td>\n",
              "      <td>5</td>\n",
              "    </tr>\n",
              "  </tbody>\n",
              "</table>\n",
              "</div>"
            ],
            "text/plain": [
              "                                                 Question  Topic\n",
              "341847  Cars in India: Which one is better, Honda Amaz...      5\n",
              "104587  What is your feedback about the Volkswagen Ven...      1\n",
              "137963  Why is it so hard to get a Networking (Cisco) ...      5\n",
              "191510                                What is rave party?      5\n",
              "202816                              How much PHP is hard?      6\n",
              "105270  What are some examples of companies who focuse...      5\n",
              "157079                     Who is tripitaka the Buddhist?      5\n",
              "185940              How long does meth say in your urine?      1\n",
              "182591  What are the advantages and disadvantages of b...      5"
            ]
          },
          "metadata": {
            "tags": []
          },
          "execution_count": 266
        }
      ]
    },
    {
      "cell_type": "code",
      "metadata": {
        "id": "NFg4NCR9-U6M"
      },
      "source": [
        "topic_test = model.transform(test_vectors)"
      ],
      "execution_count": null,
      "outputs": []
    },
    {
      "cell_type": "code",
      "metadata": {
        "id": "VtXyLq4B-Y1G",
        "colab": {
          "base_uri": "https://localhost:8080/",
          "height": 138
        },
        "outputId": "e00173a5-2219-403a-9a76-6b550340439e"
      },
      "source": [
        "test['Topic'] = topic_test.argmax(axis=1)"
      ],
      "execution_count": null,
      "outputs": [
        {
          "output_type": "stream",
          "text": [
            "/usr/local/lib/python3.6/dist-packages/ipykernel_launcher.py:1: SettingWithCopyWarning: \n",
            "A value is trying to be set on a copy of a slice from a DataFrame.\n",
            "Try using .loc[row_indexer,col_indexer] = value instead\n",
            "\n",
            "See the caveats in the documentation: https://pandas.pydata.org/pandas-docs/stable/user_guide/indexing.html#returning-a-view-versus-a-copy\n",
            "  \"\"\"Entry point for launching an IPython kernel.\n"
          ],
          "name": "stderr"
        }
      ]
    },
    {
      "cell_type": "code",
      "metadata": {
        "id": "dOWV5u5s-dHX",
        "colab": {
          "base_uri": "https://localhost:8080/",
          "height": 314
        },
        "outputId": "a5417db2-e87c-4fb2-82ea-eb31fae3a8e2"
      },
      "source": [
        "test.iloc[1:10,:]"
      ],
      "execution_count": null,
      "outputs": [
        {
          "output_type": "execute_result",
          "data": {
            "text/html": [
              "<div>\n",
              "<style scoped>\n",
              "    .dataframe tbody tr th:only-of-type {\n",
              "        vertical-align: middle;\n",
              "    }\n",
              "\n",
              "    .dataframe tbody tr th {\n",
              "        vertical-align: top;\n",
              "    }\n",
              "\n",
              "    .dataframe thead th {\n",
              "        text-align: right;\n",
              "    }\n",
              "</style>\n",
              "<table border=\"1\" class=\"dataframe\">\n",
              "  <thead>\n",
              "    <tr style=\"text-align: right;\">\n",
              "      <th></th>\n",
              "      <th>Question</th>\n",
              "      <th>Topic</th>\n",
              "    </tr>\n",
              "  </thead>\n",
              "  <tbody>\n",
              "    <tr>\n",
              "      <th>86823</th>\n",
              "      <td>I am going to take admission in FIITJEE Kalu S...</td>\n",
              "      <td>0</td>\n",
              "    </tr>\n",
              "    <tr>\n",
              "      <th>112874</th>\n",
              "      <td>How can l improve my English？?</td>\n",
              "      <td>6</td>\n",
              "    </tr>\n",
              "    <tr>\n",
              "      <th>69029</th>\n",
              "      <td>What is the translation of \"there was\" in French?</td>\n",
              "      <td>6</td>\n",
              "    </tr>\n",
              "    <tr>\n",
              "      <th>230113</th>\n",
              "      <td>What is a good mother like?</td>\n",
              "      <td>6</td>\n",
              "    </tr>\n",
              "    <tr>\n",
              "      <th>331771</th>\n",
              "      <td>Top ten websites?</td>\n",
              "      <td>6</td>\n",
              "    </tr>\n",
              "    <tr>\n",
              "      <th>258537</th>\n",
              "      <td>Does Ne-Yo currently have a girlfriend?</td>\n",
              "      <td>1</td>\n",
              "    </tr>\n",
              "    <tr>\n",
              "      <th>317699</th>\n",
              "      <td>How are cars made?</td>\n",
              "      <td>6</td>\n",
              "    </tr>\n",
              "    <tr>\n",
              "      <th>137428</th>\n",
              "      <td>What have you created with C#?</td>\n",
              "      <td>1</td>\n",
              "    </tr>\n",
              "    <tr>\n",
              "      <th>325074</th>\n",
              "      <td>What are your new year resolutions for 2017?</td>\n",
              "      <td>5</td>\n",
              "    </tr>\n",
              "  </tbody>\n",
              "</table>\n",
              "</div>"
            ],
            "text/plain": [
              "                                                 Question  Topic\n",
              "86823   I am going to take admission in FIITJEE Kalu S...      0\n",
              "112874                     How can l improve my English？?      6\n",
              "69029   What is the translation of \"there was\" in French?      6\n",
              "230113                        What is a good mother like?      6\n",
              "331771                                  Top ten websites?      6\n",
              "258537            Does Ne-Yo currently have a girlfriend?      1\n",
              "317699                                 How are cars made?      6\n",
              "137428                     What have you created with C#?      1\n",
              "325074       What are your new year resolutions for 2017?      5"
            ]
          },
          "metadata": {
            "tags": []
          },
          "execution_count": 269
        }
      ]
    },
    {
      "cell_type": "markdown",
      "metadata": {
        "id": "gyCeuCszTHZ8"
      },
      "source": [
        "## Randomized SVD"
      ]
    },
    {
      "cell_type": "code",
      "metadata": {
        "id": "zNBRqub7TSPN"
      },
      "source": [
        "from sklearn.decomposition import randomized_svd\n",
        "u, s, v = randomized_svd(train_vectors,n_components=7)"
      ],
      "execution_count": null,
      "outputs": []
    },
    {
      "cell_type": "code",
      "metadata": {
        "id": "yiJYxf9UTZOB",
        "colab": {
          "base_uri": "https://localhost:8080/",
          "height": 34
        },
        "outputId": "773cb690-8a29-4e68-d3e9-9ec369cfd159"
      },
      "source": [
        "len(tfidf.get_feature_names())"
      ],
      "execution_count": null,
      "outputs": [
        {
          "output_type": "execute_result",
          "data": {
            "text/plain": [
              "34939"
            ]
          },
          "metadata": {
            "tags": []
          },
          "execution_count": 271
        }
      ]
    },
    {
      "cell_type": "code",
      "metadata": {
        "id": "-xzU7HgvTjQ9",
        "colab": {
          "base_uri": "https://localhost:8080/",
          "height": 507
        },
        "outputId": "87aa33c0-5d5c-4f59-e57d-74d9df723f84"
      },
      "source": [
        "for index,topic in enumerate(v):\n",
        "    print(f'THE TOP 15 WORDS FOR TOPIC #{index}')\n",
        "    print([tfidf.get_feature_names()[i] for i in topic.argsort()[-15:]])\n",
        "    print('\\n')"
      ],
      "execution_count": null,
      "outputs": [
        {
          "output_type": "stream",
          "text": [
            "THE TOP 15 WORDS FOR TOPIC #0\n",
            "['time', 'programming', 'book', 'books', 'ways', 'life', 'quora', 'online', 'does', 'make', 'money', 'india', 'learn', 'way', 'best']\n",
            "\n",
            "\n",
            "THE TOP 15 WORDS FOR TOPIC #1\n",
            "['ask', 'earn', 'question', 'online', 'work', 'life', 'feel', 'questions', 'mean', 'like', 'people', 'make', 'money', 'quora', 'does']\n",
            "\n",
            "\n",
            "THE TOP 15 WORDS FOR TOPIC #2\n",
            "['delete', 'easily', 'earn', 'asked', 'online', 'google', 'make', 'answer', 'answers', 'money', 'ask', 'question', 'people', 'questions', 'quora']\n",
            "\n",
            "\n",
            "THE TOP 15 WORDS FOR TOPIC #3\n",
            "['rs', 'easy', 'rupee', 'india', 'youtube', 'black', 'ways', 'way', 'notes', '1000', '500', 'earn', 'online', 'make', 'money']\n",
            "\n",
            "\n",
            "THE TOP 15 WORDS FOR TOPIC #4\n",
            "['important', 'thing', 'things', 'did', 'love', 'like', 'think', 'donald', 'purpose', 'good', 'india', 'trump', 'know', 'people', 'life']\n",
            "\n",
            "\n",
            "THE TOP 15 WORDS FOR TOPIC #5\n",
            "['war', 'pakistan', 'did', '1000', 'notes', '500', 'win', 'think', 'hillary', 'clinton', 'president', 'people', 'donald', 'trump', 'india']\n",
            "\n",
            "\n",
            "THE TOP 15 WORDS FOR TOPIC #6\n",
            "['start', 'make', 'love', 'donald', 'like', 'way', 'trump', 'improve', 'know', 'programming', 'language', 'good', 'english', 'people', 'learn']\n",
            "\n",
            "\n"
          ],
          "name": "stdout"
        }
      ]
    },
    {
      "cell_type": "code",
      "metadata": {
        "id": "oR2kHlXwTl4C"
      },
      "source": [
        "def plot_important_features(coef, feature_names, top_n=20, ax=None):\n",
        "    if ax is None:\n",
        "        ax = plt.gca()\n",
        "    inds = np.argsort(np.abs(coef))[-top_n:]\n",
        "    important_coefs = coef[inds]\n",
        "    sort_sign = np.argsort(important_coefs)\n",
        "    myrange = range(len(inds))\n",
        "    combined_inds = inds[sort_sign]\n",
        "\n",
        "    ax.bar(myrange, coef[combined_inds])\n",
        "    ax.set_xticks(myrange)\n",
        "    ax.set_xticklabels(feature_names[combined_inds], rotation=60, ha=\"right\")"
      ],
      "execution_count": null,
      "outputs": []
    },
    {
      "cell_type": "code",
      "metadata": {
        "id": "MMUTDt6LTnra",
        "colab": {
          "base_uri": "https://localhost:8080/",
          "height": 729
        },
        "outputId": "5f85e0fe-48a9-4b78-a391-eab6846b7e09"
      },
      "source": [
        "feature_names = np.array(tfidf.get_feature_names())\n",
        "n_components = 7\n",
        "fig, axes = plt.subplots(2,4, figsize=(10, 10))\n",
        "for ax, coef in zip(axes.ravel(), v):\n",
        "    plot_important_features(coef, feature_names, top_n=10, ax=ax)\n",
        "    \n",
        "plt.tight_layout()"
      ],
      "execution_count": null,
      "outputs": [
        {
          "output_type": "display_data",
          "data": {
            "image/png": "[encoded data removed]",
            "text/plain": [
              "<Figure size 720x720 with 8 Axes>"
            ]
          },
          "metadata": {
            "tags": [],
            "needs_background": "light"
          }
        }
      ]
    },
    {
      "cell_type": "markdown",
      "metadata": {
        "id": "JTeW7LopwB_N"
      },
      "source": [
        "This interpretation is more similar to truncated svd"
      ]
    },
    {
      "cell_type": "markdown",
      "metadata": {
        "id": "GgPfggd4UGAD"
      },
      "source": [
        "Even randomized SVD is not able to segrate into topics clearly."
      ]
    },
    {
      "cell_type": "markdown",
      "metadata": {
        "id": "_nvY5eBFYu5t"
      },
      "source": [
        "# randomized SVD using Facebook"
      ]
    },
    {
      "cell_type": "code",
      "metadata": {
        "id": "R2V2KPosZMWS",
        "colab": {
          "base_uri": "https://localhost:8080/",
          "height": 188
        },
        "outputId": "4fd91191-de22-47fe-dfc7-8483ebf7e302"
      },
      "source": [
        "!pip install fbpca"
      ],
      "execution_count": null,
      "outputs": [
        {
          "output_type": "stream",
          "text": [
            "Collecting fbpca\n",
            "  Downloading https://files.pythonhosted.org/packages/a7/a5/2085d0645a4bb4f0b606251b0b7466c61326e4a471d445c1c3761a2d07bc/fbpca-1.0.tar.gz\n",
            "Building wheels for collected packages: fbpca\n",
            "  Building wheel for fbpca (setup.py) ... \u001b[?25l\u001b[?25hdone\n",
            "  Created wheel for fbpca: filename=fbpca-1.0-cp36-none-any.whl size=11376 sha256=633c780349f468e7a05a3cd528ddc5fca48c9fbd05536372c08e3ac28083906d\n",
            "  Stored in directory: /root/.cache/pip/wheels/53/a2/dd/9b66cf53dbc58cec1e613d216689e5fa946d3e7805c30f60dc\n",
            "Successfully built fbpca\n",
            "Installing collected packages: fbpca\n",
            "Successfully installed fbpca-1.0\n"
          ],
          "name": "stdout"
        }
      ]
    },
    {
      "cell_type": "code",
      "metadata": {
        "id": "atRm1fg4T_Ew"
      },
      "source": [
        "import fbpca\n",
        "u, s, v = fbpca.pca(train_vectors,7)"
      ],
      "execution_count": null,
      "outputs": []
    },
    {
      "cell_type": "code",
      "metadata": {
        "id": "M9oViM86ZQkg",
        "colab": {
          "base_uri": "https://localhost:8080/",
          "height": 507
        },
        "outputId": "e1be695f-a93a-400d-8795-90ce5cffad01"
      },
      "source": [
        "for index,topic in enumerate(v):\n",
        "    print(f'THE TOP 15 WORDS FOR TOPIC #{index}')\n",
        "    print([tfidf.get_feature_names()[i] for i in topic.argsort()[-15:]])\n",
        "    print('\\n')"
      ],
      "execution_count": null,
      "outputs": [
        {
          "output_type": "stream",
          "text": [
            "THE TOP 15 WORDS FOR TOPIC #0\n",
            "['clinton', 'time', 'love', 'ask', 'sex', 'work', 'questions', 'donald', 'feel', 'mean', 'trump', 'people', 'quora', 'like', 'does']\n",
            "\n",
            "\n",
            "THE TOP 15 WORDS FOR TOPIC #1\n",
            "['easily', 'google', 'india', 'answer', 'answers', 'good', 'earn', 'ask', 'question', 'online', 'make', 'people', 'questions', 'money', 'quora']\n",
            "\n",
            "\n",
            "THE TOP 15 WORDS FOR TOPIC #2\n",
            "['answers', 'answer', 'language', 'purpose', 'ask', 'people', 'skills', 'learn', 'question', 'questions', 'difference', 'improve', 'english', 'life', 'quora']\n",
            "\n",
            "\n",
            "THE TOP 15 WORDS FOR TOPIC #3\n",
            "['presidential', '2016', 'election', 'difference', 'war', 'india', 'world', 'hillary', 'president', 'win', 'clinton', 'did', 'learn', 'donald', 'trump']\n",
            "\n",
            "\n",
            "THE TOP 15 WORDS FOR TOPIC #4\n",
            "['new', 'know', 'black', 'english', 'indian', 'rupee', 'improve', 'rs', 'lose', '1000', 'notes', 'weight', '500', 'india', 'like']\n",
            "\n",
            "\n",
            "THE TOP 15 WORDS FOR TOPIC #5\n",
            "['weight', 'mean', 'think', '1000', 'notes', '500', 'donald', 'english', 'questions', 'trump', 'improve', 'quora', 'life', 'does', 'india']\n",
            "\n",
            "\n",
            "THE TOP 15 WORDS FOR TOPIC #6\n",
            "['rs', 'learn', 'girl', 'like', 'donald', '1000', 'notes', '500', 'did', 'trump', 'india', 'way', 'life', 'love', 'people']\n",
            "\n",
            "\n"
          ],
          "name": "stdout"
        }
      ]
    },
    {
      "cell_type": "code",
      "metadata": {
        "id": "pNw_tevJZXGA"
      },
      "source": [
        "def plot_important_features(coef, feature_names, top_n=20, ax=None):\n",
        "    if ax is None:\n",
        "        ax = plt.gca()\n",
        "    inds = np.argsort(np.abs(coef))[-top_n:]\n",
        "    important_coefs = coef[inds]\n",
        "    sort_sign = np.argsort(important_coefs)\n",
        "    myrange = range(len(inds))\n",
        "    combined_inds = inds[sort_sign]\n",
        "\n",
        "    ax.bar(myrange, coef[combined_inds])\n",
        "    ax.set_xticks(myrange)\n",
        "    ax.set_xticklabels(feature_names[combined_inds], rotation=60, ha=\"right\")"
      ],
      "execution_count": null,
      "outputs": []
    },
    {
      "cell_type": "code",
      "metadata": {
        "id": "GY8qULwCZavZ",
        "colab": {
          "base_uri": "https://localhost:8080/",
          "height": 729
        },
        "outputId": "6464eb73-48fa-4ceb-d2fb-a8cb131200d4"
      },
      "source": [
        "feature_names = np.array(tfidf.get_feature_names())\n",
        "n_components = 5\n",
        "fig, axes = plt.subplots(2,4, figsize=(10, 10))\n",
        "for ax, coef in zip(axes.ravel(), v):\n",
        "    plot_important_features(coef, feature_names, top_n=10, ax=ax)\n",
        "    \n",
        "plt.tight_layout()"
      ],
      "execution_count": null,
      "outputs": [
        {
          "output_type": "display_data",
          "data": {
            "image/png": "[encoded data removed]",
            "text/plain": [
              "<Figure size 720x720 with 8 Axes>"
            ]
          },
          "metadata": {
            "tags": [],
            "needs_background": "light"
          }
        }
      ]
    },
    {
      "cell_type": "markdown",
      "metadata": {
        "id": "VdKJbS4WwXv6"
      },
      "source": [
        "If we compare interpretations truncated svd, randomized svd are much better than facebook svd"
      ]
    },
    {
      "cell_type": "markdown",
      "metadata": {
        "id": "4-bkgmQI-l_e"
      },
      "source": [
        "#LDA\n",
        "\n",
        "\n"
      ]
    },
    {
      "cell_type": "code",
      "metadata": {
        "id": "4By7jTLwQeEf"
      },
      "source": [
        "from sklearn.decomposition import LatentDirichletAllocation\n",
        "model = LatentDirichletAllocation(n_components=7,random_state=42)"
      ],
      "execution_count": null,
      "outputs": []
    },
    {
      "cell_type": "code",
      "metadata": {
        "id": "dar6VCq9QiI0",
        "colab": {
          "base_uri": "https://localhost:8080/",
          "height": 134
        },
        "outputId": "18d7732a-d544-48d2-be0c-cc64b0ae8509"
      },
      "source": [
        "# fit the model to train data\n",
        "model.fit(train_vectors)"
      ],
      "execution_count": null,
      "outputs": [
        {
          "output_type": "execute_result",
          "data": {
            "text/plain": [
              "LatentDirichletAllocation(batch_size=128, doc_topic_prior=None,\n",
              "                          evaluate_every=-1, learning_decay=0.7,\n",
              "                          learning_method='batch', learning_offset=10.0,\n",
              "                          max_doc_update_iter=100, max_iter=10,\n",
              "                          mean_change_tol=0.001, n_components=7, n_jobs=None,\n",
              "                          perp_tol=0.1, random_state=42, topic_word_prior=None,\n",
              "                          total_samples=1000000.0, verbose=0)"
            ]
          },
          "metadata": {
            "tags": []
          },
          "execution_count": 284
        }
      ]
    },
    {
      "cell_type": "code",
      "metadata": {
        "id": "aVNMH643QkdI",
        "colab": {
          "base_uri": "https://localhost:8080/",
          "height": 34
        },
        "outputId": "6dfc9fad-5480-4edd-f12c-8ff03190d7d4"
      },
      "source": [
        "len(tfidf.get_feature_names())"
      ],
      "execution_count": null,
      "outputs": [
        {
          "output_type": "execute_result",
          "data": {
            "text/plain": [
              "34939"
            ]
          },
          "metadata": {
            "tags": []
          },
          "execution_count": 285
        }
      ]
    },
    {
      "cell_type": "code",
      "metadata": {
        "id": "lZWOd5CzQoaS"
      },
      "source": [
        "import random"
      ],
      "execution_count": null,
      "outputs": []
    },
    {
      "cell_type": "code",
      "metadata": {
        "id": "5Fn05pkAQsbQ",
        "colab": {
          "base_uri": "https://localhost:8080/",
          "height": 185
        },
        "outputId": "ebd6c9d3-c66a-40ea-e232-3f7f4da08d50"
      },
      "source": [
        "for i in range(10):\n",
        "    random_word_id = random.randint(0,4461)\n",
        "    print(tfidf.get_feature_names()[random_word_id])"
      ],
      "execution_count": null,
      "outputs": [
        {
          "output_type": "stream",
          "text": [
            "asana\n",
            "amontillado\n",
            "bipolar\n",
            "110v\n",
            "americans\n",
            "5th\n",
            "ao\n",
            "bbs\n",
            "balloons\n",
            "advantageous\n"
          ],
          "name": "stdout"
        }
      ]
    },
    {
      "cell_type": "code",
      "metadata": {
        "id": "9ansU4XPQ1jS"
      },
      "source": [
        "single_topic = model.components_[0]"
      ],
      "execution_count": null,
      "outputs": []
    },
    {
      "cell_type": "code",
      "metadata": {
        "id": "DrRNXtmpQ4JF",
        "colab": {
          "base_uri": "https://localhost:8080/",
          "height": 34
        },
        "outputId": "401c5fd6-a344-4d38-d5db-c499611c6e8d"
      },
      "source": [
        "# Returns the indices that would sort this array.\n",
        "single_topic.argsort()"
      ],
      "execution_count": null,
      "outputs": [
        {
          "output_type": "execute_result",
          "data": {
            "text/plain": [
              "array([32875,  9205, 34769, ..., 25299, 25306, 25348])"
            ]
          },
          "metadata": {
            "tags": []
          },
          "execution_count": 289
        }
      ]
    },
    {
      "cell_type": "code",
      "metadata": {
        "id": "8Nq981PbQ9up",
        "colab": {
          "base_uri": "https://localhost:8080/",
          "height": 34
        },
        "outputId": "28bdb611-f8b5-49f9-dcd1-9f74d2bb552c"
      },
      "source": [
        "# Word least representative of this topic\n",
        "single_topic[32875]"
      ],
      "execution_count": null,
      "outputs": [
        {
          "output_type": "execute_result",
          "data": {
            "text/plain": [
              "0.1428572771934339"
            ]
          },
          "metadata": {
            "tags": []
          },
          "execution_count": 290
        }
      ]
    },
    {
      "cell_type": "code",
      "metadata": {
        "id": "rvxFsb-WRDmf",
        "colab": {
          "base_uri": "https://localhost:8080/",
          "height": 34
        },
        "outputId": "9997d31a-a57e-48bf-af9e-d57c277582da"
      },
      "source": [
        "# Word most representative of this topic\n",
        "single_topic[25348]"
      ],
      "execution_count": null,
      "outputs": [
        {
          "output_type": "execute_result",
          "data": {
            "text/plain": [
              "2544.305144779443"
            ]
          },
          "metadata": {
            "tags": []
          },
          "execution_count": 291
        }
      ]
    },
    {
      "cell_type": "code",
      "metadata": {
        "id": "jdRaBTrQRFiH"
      },
      "source": [
        "top_word_indices = single_topic.argsort()[-10:]"
      ],
      "execution_count": null,
      "outputs": []
    },
    {
      "cell_type": "code",
      "metadata": {
        "id": "gCsbMVyTRIco",
        "colab": {
          "base_uri": "https://localhost:8080/",
          "height": 185
        },
        "outputId": "84f5fd8d-5e17-4dc1-87c8-5fb8c8c3bdaa"
      },
      "source": [
        "for index in top_word_indices:\n",
        "    print(tfidf.get_feature_names()[index])"
      ],
      "execution_count": null,
      "outputs": [
        {
          "output_type": "stream",
          "text": [
            "google\n",
            "ask\n",
            "does\n",
            "instagram\n",
            "notes\n",
            "1000\n",
            "500\n",
            "question\n",
            "questions\n",
            "quora\n"
          ],
          "name": "stdout"
        }
      ]
    },
    {
      "cell_type": "code",
      "metadata": {
        "id": "znx0FadpRKRz",
        "colab": {
          "base_uri": "https://localhost:8080/",
          "height": 507
        },
        "outputId": "90a72318-a74b-43ca-8a8a-ee9715306fbb"
      },
      "source": [
        "for index,topic in enumerate(model.components_):\n",
        "    print(f'THE TOP 15 WORDS FOR TOPIC #{index}')\n",
        "    print([tfidf.get_feature_names()[i] for i in topic.argsort()[-15:]])\n",
        "    print('\\n')"
      ],
      "execution_count": null,
      "outputs": [
        {
          "output_type": "stream",
          "text": [
            "THE TOP 15 WORDS FOR TOPIC #0\n",
            "['money', 'answer', 'youtube', 'facebook', 'people', 'google', 'ask', 'does', 'instagram', 'notes', '1000', '500', 'question', 'questions', 'quora']\n",
            "\n",
            "\n",
            "THE TOP 15 WORDS FOR TOPIC #1\n",
            "['don', 'work', 'feel', 'increase', 'mind', 'difference', 'password', 'skills', 'people', 'like', 'best', 'sex', 'does', 'improve', 'english']\n",
            "\n",
            "\n",
            "THE TOP 15 WORDS FOR TOPIC #2\n",
            "['does', 'company', 'prepare', 'study', 'job', 'learning', 'book', 'business', 'engineering', 'books', 'good', 'india', 'start', 'learn', 'best']\n",
            "\n",
            "\n",
            "THE TOP 15 WORDS FOR TOPIC #3\n",
            "['buy', 'app', 'time', 'does', 'travel', 'number', 'mobile', 'android', 'iphone', 'earn', 'phone', 'make', 'best', 'online', 'money']\n",
            "\n",
            "\n",
            "THE TOP 15 WORDS FOR TOPIC #4\n",
            "['fat', 'good', 'does', 'language', 'new', 'india', 'way', 'hillary', 'clinton', 'best', 'president', 'donald', 'lose', 'weight', 'trump']\n",
            "\n",
            "\n",
            "THE TOP 15 WORDS FOR TOPIC #5\n",
            "['purpose', 'like', 'pakistan', 'believe', 'country', 'think', 'things', 'did', 'meaning', 'war', 'people', 'world', 'india', 'does', 'life']\n",
            "\n",
            "\n",
            "THE TOP 15 WORDS FOR TOPIC #6\n",
            "['guy', 'people', 'watch', 'mean', 'old', 'know', 'women', 'men', 'movie', 'like', 'movies', 'girl', 'does', 'best', 'love']\n",
            "\n",
            "\n"
          ],
          "name": "stdout"
        }
      ]
    },
    {
      "cell_type": "code",
      "metadata": {
        "id": "WF7FmHZPRRC-"
      },
      "source": [
        "def plot_important_features(coef, feature_names, top_n=20, ax=None):\n",
        "    if ax is None:\n",
        "        ax = plt.gca()\n",
        "    inds = np.argsort(np.abs(coef))[-top_n:]\n",
        "    important_coefs = coef[inds]\n",
        "    sort_sign = np.argsort(important_coefs)\n",
        "    myrange = range(len(inds))\n",
        "    combined_inds = inds[sort_sign]\n",
        "\n",
        "    ax.bar(myrange, coef[combined_inds])\n",
        "    ax.set_xticks(myrange)\n",
        "    ax.set_xticklabels(feature_names[combined_inds], rotation=60, ha=\"right\")"
      ],
      "execution_count": null,
      "outputs": []
    },
    {
      "cell_type": "code",
      "metadata": {
        "id": "O90lsT7VRTMe",
        "colab": {
          "base_uri": "https://localhost:8080/",
          "height": 729
        },
        "outputId": "ad6f88b5-eac5-434e-914a-ebbd5e2ae029"
      },
      "source": [
        "feature_names = np.array(tfidf.get_feature_names())\n",
        "n_components = 7\n",
        "fig, axes = plt.subplots(2,4, figsize=(10, 10))\n",
        "for ax, coef in zip(axes.ravel(), model.components_):\n",
        "    plot_important_features(coef, feature_names, top_n=9, ax=ax)\n",
        "    \n",
        "plt.tight_layout()"
      ],
      "execution_count": null,
      "outputs": [
        {
          "output_type": "display_data",
          "data": {
            "image/png": "[encoded data removed]",
            "text/plain": [
              "<Figure size 720x720 with 8 Axes>"
            ]
          },
          "metadata": {
            "tags": [],
            "needs_background": "light"
          }
        }
      ]
    },
    {
      "cell_type": "markdown",
      "metadata": {
        "id": "vUKZ-N950fyV"
      },
      "source": [
        "PLot :1\n",
        "\n",
        "Questions related 500 and 1000 notes \n",
        "\n",
        "pLot 2:\n",
        "best way to improve english and people skills. I don't know how password and sex realted to this topic.\n",
        "\n",
        "Plot 3:\n",
        "\n",
        "best books to learn engineering,business to start with.\n",
        "\n",
        "PLot 4:\n",
        "Best way to earn money online using mobile phone that uses android or iphone.\n",
        "\n",
        "PLot 5:\n",
        "About trump vs hilary clinton who is best among \n",
        "\n",
        "PLot 6:\n",
        "does indian people involve in world war.\n",
        "\n",
        "PLot 7:\n",
        "what movies does men,women,girls like ?\n",
        "\n",
        "\n",
        "\n",
        "Out of all the technoques LDA has good interpretation of topics. \n",
        "\n"
      ]
    },
    {
      "cell_type": "markdown",
      "metadata": {
        "id": "vV7N9nWQR8i0"
      },
      "source": [
        "Use Transform to get topic id for each document for training data"
      ]
    },
    {
      "cell_type": "code",
      "metadata": {
        "id": "bg15X-NeSfpx"
      },
      "source": [
        "topic_train = model.transform(train_vectors)"
      ],
      "execution_count": null,
      "outputs": []
    },
    {
      "cell_type": "code",
      "metadata": {
        "id": "KTR18Sx2Shil",
        "colab": {
          "base_uri": "https://localhost:8080/",
          "height": 34
        },
        "outputId": "353c7a6c-15a0-4003-98a8-8c24dcd4122d"
      },
      "source": [
        "topic_train[0].round(2)"
      ],
      "execution_count": null,
      "outputs": [
        {
          "output_type": "execute_result",
          "data": {
            "text/plain": [
              "array([0.04, 0.34, 0.47, 0.04, 0.04, 0.04, 0.04])"
            ]
          },
          "metadata": {
            "tags": []
          },
          "execution_count": 298
        }
      ]
    },
    {
      "cell_type": "code",
      "metadata": {
        "id": "JRPOg2-sSprL",
        "colab": {
          "base_uri": "https://localhost:8080/",
          "height": 34
        },
        "outputId": "edadd35f-3925-4a91-ad91-473a037927aa"
      },
      "source": [
        "topic_train[0].argmax()"
      ],
      "execution_count": null,
      "outputs": [
        {
          "output_type": "execute_result",
          "data": {
            "text/plain": [
              "2"
            ]
          },
          "metadata": {
            "tags": []
          },
          "execution_count": 299
        }
      ]
    },
    {
      "cell_type": "markdown",
      "metadata": {
        "id": "MOzYHh9yStLW"
      },
      "source": [
        "This means that our model thinks that the first article belongs to topic #2"
      ]
    },
    {
      "cell_type": "code",
      "metadata": {
        "id": "wMavD8_tSu-K",
        "colab": {
          "base_uri": "https://localhost:8080/",
          "height": 138
        },
        "outputId": "859d251a-55ca-4752-e1ef-9751478b1e8b"
      },
      "source": [
        "train['Topic'] = topic_train.argmax(axis=1)"
      ],
      "execution_count": null,
      "outputs": [
        {
          "output_type": "stream",
          "text": [
            "/usr/local/lib/python3.6/dist-packages/ipykernel_launcher.py:1: SettingWithCopyWarning: \n",
            "A value is trying to be set on a copy of a slice from a DataFrame.\n",
            "Try using .loc[row_indexer,col_indexer] = value instead\n",
            "\n",
            "See the caveats in the documentation: https://pandas.pydata.org/pandas-docs/stable/user_guide/indexing.html#returning-a-view-versus-a-copy\n",
            "  \"\"\"Entry point for launching an IPython kernel.\n"
          ],
          "name": "stderr"
        }
      ]
    },
    {
      "cell_type": "code",
      "metadata": {
        "id": "xwWv6sN1S6LT",
        "colab": {
          "base_uri": "https://localhost:8080/",
          "height": 314
        },
        "outputId": "61b75df4-d7da-404a-ba1a-b208d342b631"
      },
      "source": [
        "train.iloc[1:10,:]"
      ],
      "execution_count": null,
      "outputs": [
        {
          "output_type": "execute_result",
          "data": {
            "text/html": [
              "<div>\n",
              "<style scoped>\n",
              "    .dataframe tbody tr th:only-of-type {\n",
              "        vertical-align: middle;\n",
              "    }\n",
              "\n",
              "    .dataframe tbody tr th {\n",
              "        vertical-align: top;\n",
              "    }\n",
              "\n",
              "    .dataframe thead th {\n",
              "        text-align: right;\n",
              "    }\n",
              "</style>\n",
              "<table border=\"1\" class=\"dataframe\">\n",
              "  <thead>\n",
              "    <tr style=\"text-align: right;\">\n",
              "      <th></th>\n",
              "      <th>Question</th>\n",
              "      <th>Topic</th>\n",
              "    </tr>\n",
              "  </thead>\n",
              "  <tbody>\n",
              "    <tr>\n",
              "      <th>341847</th>\n",
              "      <td>Cars in India: Which one is better, Honda Amaz...</td>\n",
              "      <td>4</td>\n",
              "    </tr>\n",
              "    <tr>\n",
              "      <th>104587</th>\n",
              "      <td>What is your feedback about the Volkswagen Ven...</td>\n",
              "      <td>1</td>\n",
              "    </tr>\n",
              "    <tr>\n",
              "      <th>137963</th>\n",
              "      <td>Why is it so hard to get a Networking (Cisco) ...</td>\n",
              "      <td>2</td>\n",
              "    </tr>\n",
              "    <tr>\n",
              "      <th>191510</th>\n",
              "      <td>What is rave party?</td>\n",
              "      <td>0</td>\n",
              "    </tr>\n",
              "    <tr>\n",
              "      <th>202816</th>\n",
              "      <td>How much PHP is hard?</td>\n",
              "      <td>2</td>\n",
              "    </tr>\n",
              "    <tr>\n",
              "      <th>105270</th>\n",
              "      <td>What are some examples of companies who focuse...</td>\n",
              "      <td>1</td>\n",
              "    </tr>\n",
              "    <tr>\n",
              "      <th>157079</th>\n",
              "      <td>Who is tripitaka the Buddhist?</td>\n",
              "      <td>2</td>\n",
              "    </tr>\n",
              "    <tr>\n",
              "      <th>185940</th>\n",
              "      <td>How long does meth say in your urine?</td>\n",
              "      <td>1</td>\n",
              "    </tr>\n",
              "    <tr>\n",
              "      <th>182591</th>\n",
              "      <td>What are the advantages and disadvantages of b...</td>\n",
              "      <td>1</td>\n",
              "    </tr>\n",
              "  </tbody>\n",
              "</table>\n",
              "</div>"
            ],
            "text/plain": [
              "                                                 Question  Topic\n",
              "341847  Cars in India: Which one is better, Honda Amaz...      4\n",
              "104587  What is your feedback about the Volkswagen Ven...      1\n",
              "137963  Why is it so hard to get a Networking (Cisco) ...      2\n",
              "191510                                What is rave party?      0\n",
              "202816                              How much PHP is hard?      2\n",
              "105270  What are some examples of companies who focuse...      1\n",
              "157079                     Who is tripitaka the Buddhist?      2\n",
              "185940              How long does meth say in your urine?      1\n",
              "182591  What are the advantages and disadvantages of b...      1"
            ]
          },
          "metadata": {
            "tags": []
          },
          "execution_count": 301
        }
      ]
    },
    {
      "cell_type": "code",
      "metadata": {
        "id": "JqEog4HlS_el"
      },
      "source": [
        "topic_test = model.transform(test_vectors)"
      ],
      "execution_count": null,
      "outputs": []
    },
    {
      "cell_type": "code",
      "metadata": {
        "id": "fp5qYaEyTEAL",
        "colab": {
          "base_uri": "https://localhost:8080/",
          "height": 138
        },
        "outputId": "bc9cc58e-eb9c-4997-909a-a848d46b4007"
      },
      "source": [
        "test['Topic'] = topic_test.argmax(axis=1)"
      ],
      "execution_count": null,
      "outputs": [
        {
          "output_type": "stream",
          "text": [
            "/usr/local/lib/python3.6/dist-packages/ipykernel_launcher.py:1: SettingWithCopyWarning: \n",
            "A value is trying to be set on a copy of a slice from a DataFrame.\n",
            "Try using .loc[row_indexer,col_indexer] = value instead\n",
            "\n",
            "See the caveats in the documentation: https://pandas.pydata.org/pandas-docs/stable/user_guide/indexing.html#returning-a-view-versus-a-copy\n",
            "  \"\"\"Entry point for launching an IPython kernel.\n"
          ],
          "name": "stderr"
        }
      ]
    },
    {
      "cell_type": "code",
      "metadata": {
        "id": "WI5_s8PpTFtV",
        "colab": {
          "base_uri": "https://localhost:8080/",
          "height": 314
        },
        "outputId": "deb43c8e-f968-41ad-9ebe-513ce2ef7f74"
      },
      "source": [
        "test.iloc[1:10,:]"
      ],
      "execution_count": null,
      "outputs": [
        {
          "output_type": "execute_result",
          "data": {
            "text/html": [
              "<div>\n",
              "<style scoped>\n",
              "    .dataframe tbody tr th:only-of-type {\n",
              "        vertical-align: middle;\n",
              "    }\n",
              "\n",
              "    .dataframe tbody tr th {\n",
              "        vertical-align: top;\n",
              "    }\n",
              "\n",
              "    .dataframe thead th {\n",
              "        text-align: right;\n",
              "    }\n",
              "</style>\n",
              "<table border=\"1\" class=\"dataframe\">\n",
              "  <thead>\n",
              "    <tr style=\"text-align: right;\">\n",
              "      <th></th>\n",
              "      <th>Question</th>\n",
              "      <th>Topic</th>\n",
              "    </tr>\n",
              "  </thead>\n",
              "  <tbody>\n",
              "    <tr>\n",
              "      <th>86823</th>\n",
              "      <td>I am going to take admission in FIITJEE Kalu S...</td>\n",
              "      <td>2</td>\n",
              "    </tr>\n",
              "    <tr>\n",
              "      <th>112874</th>\n",
              "      <td>How can l improve my English？?</td>\n",
              "      <td>1</td>\n",
              "    </tr>\n",
              "    <tr>\n",
              "      <th>69029</th>\n",
              "      <td>What is the translation of \"there was\" in French?</td>\n",
              "      <td>5</td>\n",
              "    </tr>\n",
              "    <tr>\n",
              "      <th>230113</th>\n",
              "      <td>What is a good mother like?</td>\n",
              "      <td>6</td>\n",
              "    </tr>\n",
              "    <tr>\n",
              "      <th>331771</th>\n",
              "      <td>Top ten websites?</td>\n",
              "      <td>2</td>\n",
              "    </tr>\n",
              "    <tr>\n",
              "      <th>258537</th>\n",
              "      <td>Does Ne-Yo currently have a girlfriend?</td>\n",
              "      <td>4</td>\n",
              "    </tr>\n",
              "    <tr>\n",
              "      <th>317699</th>\n",
              "      <td>How are cars made?</td>\n",
              "      <td>2</td>\n",
              "    </tr>\n",
              "    <tr>\n",
              "      <th>137428</th>\n",
              "      <td>What have you created with C#?</td>\n",
              "      <td>4</td>\n",
              "    </tr>\n",
              "    <tr>\n",
              "      <th>325074</th>\n",
              "      <td>What are your new year resolutions for 2017?</td>\n",
              "      <td>4</td>\n",
              "    </tr>\n",
              "  </tbody>\n",
              "</table>\n",
              "</div>"
            ],
            "text/plain": [
              "                                                 Question  Topic\n",
              "86823   I am going to take admission in FIITJEE Kalu S...      2\n",
              "112874                     How can l improve my English？?      1\n",
              "69029   What is the translation of \"there was\" in French?      5\n",
              "230113                        What is a good mother like?      6\n",
              "331771                                  Top ten websites?      2\n",
              "258537            Does Ne-Yo currently have a girlfriend?      4\n",
              "317699                                 How are cars made?      2\n",
              "137428                     What have you created with C#?      4\n",
              "325074       What are your new year resolutions for 2017?      4"
            ]
          },
          "metadata": {
            "tags": []
          },
          "execution_count": 304
        }
      ]
    }
  ]
}